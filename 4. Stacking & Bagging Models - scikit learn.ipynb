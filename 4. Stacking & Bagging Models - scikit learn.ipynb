{
 "cells": [
  {
   "cell_type": "code",
   "execution_count": 3,
   "id": "98709bba",
   "metadata": {},
   "outputs": [],
   "source": [
    "import pandas as pd\n",
    "import numpy as np\n",
    "import warnings\n",
    "warnings.filterwarnings('ignore')\n",
    "from sklearn.linear_model import RidgeCV\n",
    "from sklearn.svm import LinearSVR\n",
    "from sklearn.ensemble import RandomForestRegressor\n",
    "from sklearn.ensemble import StackingRegressor\n",
    "from sklearn.tree import DecisionTreeRegressor\n",
    "from sklearn.neighbors import KNeighborsRegressor\n",
    "from sklearn.linear_model import LinearRegression\n",
    "from sklearn.svm import SVR\n",
    "from numpy import mean\n",
    "from numpy import std\n",
    "from sklearn.model_selection import cross_val_score\n",
    "from sklearn.model_selection import RepeatedKFold\n",
    "from matplotlib import pyplot"
   ]
  },
  {
   "cell_type": "code",
   "execution_count": 4,
   "id": "7ddde19e",
   "metadata": {},
   "outputs": [],
   "source": [
    "# read in data\n",
    "nov = pd.read_csv('C:\\\\Users\\\\chris\\\\OneDrive\\\\Grad School\\\\_ADVANCED MACHINE LEARNING\\\\Week 3\\\\Lab\\\\November Sleep Data - Sheet1.csv')\n",
    "dec = pd.read_csv('C:\\\\Users\\\\chris\\\\OneDrive\\\\Grad School\\\\_ADVANCED MACHINE LEARNING\\\\Week 3\\\\Lab\\\\December Sleep Data - Sheet1.csv')\n",
    "jan = pd.read_csv('C:\\\\Users\\\\chris\\\\OneDrive\\\\Grad School\\\\_ADVANCED MACHINE LEARNING\\\\Week 3\\\\Lab\\\\January Sleep Data - Sheet1.csv')\n",
    "feb = pd.read_csv('C:\\\\Users\\\\chris\\\\OneDrive\\\\Grad School\\\\_ADVANCED MACHINE LEARNING\\\\Week 3\\\\Lab\\\\February Sleep Data - Sheet1.csv')\n",
    "\n",
    "# add month variables\n",
    "nov[\"Month\"] = \"November\"\n",
    "dec[\"Month\"] = \"December\"\n",
    "jan[\"Month\"] = \"January\"\n",
    "feb[\"Month\"] = \"February\"\n",
    "\n",
    "# rename columns to day of week\n",
    "nov = nov.rename(columns={\"NOVEMBER\":\"DAY_OF_WEEK\"})\n",
    "dec = dec.rename(columns={\"DECEMBER\":\"DAY_OF_WEEK\"})\n",
    "jan = jan.rename(columns={\"JANUARY\":\"DAY_OF_WEEK\"})\n",
    "feb = feb.rename(columns={\"FEBRUARY\":\"DAY_OF_WEEK\"})\n"
   ]
  },
  {
   "cell_type": "code",
   "execution_count": 6,
   "id": "f4c3c084",
   "metadata": {},
   "outputs": [
    {
     "data": {
      "text/html": [
       "<div>\n",
       "<style scoped>\n",
       "    .dataframe tbody tr th:only-of-type {\n",
       "        vertical-align: middle;\n",
       "    }\n",
       "\n",
       "    .dataframe tbody tr th {\n",
       "        vertical-align: top;\n",
       "    }\n",
       "\n",
       "    .dataframe thead th {\n",
       "        text-align: right;\n",
       "    }\n",
       "</style>\n",
       "<table border=\"1\" class=\"dataframe\">\n",
       "  <thead>\n",
       "    <tr style=\"text-align: right;\">\n",
       "      <th></th>\n",
       "      <th>DAY_OF_WEEK</th>\n",
       "      <th>DATE</th>\n",
       "      <th>SLEEP_SCORE</th>\n",
       "      <th>HOURS_OF_SLEEP</th>\n",
       "      <th>REM_SLEEP</th>\n",
       "      <th>DEEP_SLEEP</th>\n",
       "      <th>HEART_RATE_BELOW_RESTING</th>\n",
       "      <th>SLEEP_TIME</th>\n",
       "      <th>Month</th>\n",
       "    </tr>\n",
       "  </thead>\n",
       "  <tbody>\n",
       "    <tr>\n",
       "      <th>0</th>\n",
       "      <td>Monday</td>\n",
       "      <td>11/1/2021</td>\n",
       "      <td>88</td>\n",
       "      <td>8:06:00</td>\n",
       "      <td>20.00%</td>\n",
       "      <td>13.00%</td>\n",
       "      <td>84.00%</td>\n",
       "      <td>10:41pm - 7:54am</td>\n",
       "      <td>November</td>\n",
       "    </tr>\n",
       "    <tr>\n",
       "      <th>1</th>\n",
       "      <td>Tuesday</td>\n",
       "      <td>11/2/2021</td>\n",
       "      <td>83</td>\n",
       "      <td>7:57:00</td>\n",
       "      <td>12.00%</td>\n",
       "      <td>18.00%</td>\n",
       "      <td>90.00%</td>\n",
       "      <td>10:40pm - 7:55am</td>\n",
       "      <td>November</td>\n",
       "    </tr>\n",
       "    <tr>\n",
       "      <th>2</th>\n",
       "      <td>Wednesday</td>\n",
       "      <td>11/3/2021</td>\n",
       "      <td>81</td>\n",
       "      <td>7:06:00</td>\n",
       "      <td>13.00%</td>\n",
       "      <td>22.00%</td>\n",
       "      <td>93.00%</td>\n",
       "      <td>11:03pm - 7:16am</td>\n",
       "      <td>November</td>\n",
       "    </tr>\n",
       "    <tr>\n",
       "      <th>3</th>\n",
       "      <td>Thursday</td>\n",
       "      <td>11/4/2021</td>\n",
       "      <td>86</td>\n",
       "      <td>7:04:00</td>\n",
       "      <td>19.00%</td>\n",
       "      <td>17.00%</td>\n",
       "      <td>97.00%</td>\n",
       "      <td>10:55pm - 6:56am</td>\n",
       "      <td>November</td>\n",
       "    </tr>\n",
       "    <tr>\n",
       "      <th>4</th>\n",
       "      <td>Friday</td>\n",
       "      <td>11/5/2021</td>\n",
       "      <td>81</td>\n",
       "      <td>9:24:00</td>\n",
       "      <td>17.00%</td>\n",
       "      <td>15.00%</td>\n",
       "      <td>66.00%</td>\n",
       "      <td>10:14pm - 9:01am</td>\n",
       "      <td>November</td>\n",
       "    </tr>\n",
       "  </tbody>\n",
       "</table>\n",
       "</div>"
      ],
      "text/plain": [
       "  DAY_OF_WEEK       DATE  SLEEP_SCORE HOURS_OF_SLEEP REM_SLEEP DEEP_SLEEP  \\\n",
       "0      Monday  11/1/2021           88        8:06:00    20.00%     13.00%   \n",
       "1     Tuesday  11/2/2021           83        7:57:00    12.00%     18.00%   \n",
       "2   Wednesday  11/3/2021           81        7:06:00    13.00%     22.00%   \n",
       "3    Thursday  11/4/2021           86        7:04:00    19.00%     17.00%   \n",
       "4      Friday  11/5/2021           81        9:24:00    17.00%     15.00%   \n",
       "\n",
       "  HEART_RATE_BELOW_RESTING        SLEEP_TIME     Month  \n",
       "0                   84.00%  10:41pm - 7:54am  November  \n",
       "1                   90.00%  10:40pm - 7:55am  November  \n",
       "2                   93.00%  11:03pm - 7:16am  November  \n",
       "3                   97.00%  10:55pm - 6:56am  November  \n",
       "4                   66.00%  10:14pm - 9:01am  November  "
      ]
     },
     "execution_count": 6,
     "metadata": {},
     "output_type": "execute_result"
    }
   ],
   "source": [
    "# combine all data\n",
    "df = pd.concat([nov,dec,jan,feb])\n",
    "df.head()"
   ]
  },
  {
   "cell_type": "code",
   "execution_count": 8,
   "id": "4015e8ae",
   "metadata": {},
   "outputs": [],
   "source": [
    "# create new column \"HOURS\" for hours of sleep\n",
    "df['HOURS'] = df.HOURS_OF_SLEEP.apply(lambda x: x[:x.find(\":\")])\n",
    "df[\"HOURS\"] = pd.to_numeric(df[\"HOURS\"])\n",
    "\n",
    "# create new column \"MINS\"\n",
    "df['MINS'] = df.HOURS_OF_SLEEP.apply(lambda x: x[x.find(\":\") + 1: x.find(\":\") + 3])\n",
    "df[\"MINS\"] = pd.to_numeric(df[\"MINS\"])\n",
    "\n",
    "# calculate total minutes of sleep\n",
    "df[\"TOTAL_MINS\"] = df['HOURS'] * 60 + df['MINS']"
   ]
  },
  {
   "cell_type": "code",
   "execution_count": 9,
   "id": "d1c04152",
   "metadata": {},
   "outputs": [],
   "source": [
    "# new column for what hour person fell asleep at\n",
    "df['FELL_ASLEEP'] = df.SLEEP_TIME.apply(lambda x: x[:2])\n",
    "pd.set_option('display.max_rows', None)\n",
    "df['FELL_ASLEEP'] = df['FELL_ASLEEP'].str.rstrip(':').astype('float')\n",
    "\n",
    "# categorical variable. If they fell asleep at 9 or 10 column = 1, else column = 0\n",
    "df['FELL_ASLEEP_EARLY'] = np.where((df['FELL_ASLEEP']== 10) | (df['FELL_ASLEEP']== 9), 1, 0)"
   ]
  },
  {
   "cell_type": "code",
   "execution_count": 10,
   "id": "ecd650d7",
   "metadata": {},
   "outputs": [
    {
     "data": {
      "text/plain": [
       "DAY_OF_WEEK                  object\n",
       "DATE                         object\n",
       "SLEEP_SCORE                   int64\n",
       "HOURS_OF_SLEEP               object\n",
       "REM_SLEEP                   float64\n",
       "DEEP_SLEEP                  float64\n",
       "HEART_RATE_BELOW_RESTING    float64\n",
       "SLEEP_TIME                   object\n",
       "Month                        object\n",
       "HOURS                         int64\n",
       "MINS                          int64\n",
       "TOTAL_MINS                    int64\n",
       "FELL_ASLEEP                 float64\n",
       "FELL_ASLEEP_EARLY             int32\n",
       "dtype: object"
      ]
     },
     "execution_count": 10,
     "metadata": {},
     "output_type": "execute_result"
    }
   ],
   "source": [
    "# change data types of columns\n",
    "df['DEEP_SLEEP'] = df['DEEP_SLEEP'].str.rstrip('%').astype('float')\n",
    "df['REM_SLEEP'] = df['REM_SLEEP'].str.rstrip('%').astype('float')\n",
    "df['HEART_RATE_BELOW_RESTING'] = df['HEART_RATE_BELOW_RESTING'].str.rstrip('%').astype('float')"
   ]
  },
  {
   "cell_type": "code",
   "execution_count": 11,
   "id": "48be0076",
   "metadata": {},
   "outputs": [],
   "source": [
    "# drop unneeded columns\n",
    "df = df.drop(['DATE', 'HOURS_OF_SLEEP','SLEEP_TIME', 'HOURS', 'MINS','FELL_ASLEEP'], axis = 1)"
   ]
  },
  {
   "cell_type": "code",
   "execution_count": 12,
   "id": "56dc7f0a",
   "metadata": {},
   "outputs": [],
   "source": [
    "# Binary encode categorical variables\n",
    "df = pd.get_dummies(df, prefix=['DAY_OF_WEEK', 'Month'])"
   ]
  },
  {
   "cell_type": "code",
   "execution_count": 13,
   "id": "e1805617",
   "metadata": {},
   "outputs": [
    {
     "data": {
      "text/html": [
       "<div>\n",
       "<style scoped>\n",
       "    .dataframe tbody tr th:only-of-type {\n",
       "        vertical-align: middle;\n",
       "    }\n",
       "\n",
       "    .dataframe tbody tr th {\n",
       "        vertical-align: top;\n",
       "    }\n",
       "\n",
       "    .dataframe thead th {\n",
       "        text-align: right;\n",
       "    }\n",
       "</style>\n",
       "<table border=\"1\" class=\"dataframe\">\n",
       "  <thead>\n",
       "    <tr style=\"text-align: right;\">\n",
       "      <th></th>\n",
       "      <th>REM_SLEEP</th>\n",
       "      <th>DEEP_SLEEP</th>\n",
       "      <th>HEART_RATE_BELOW_RESTING</th>\n",
       "      <th>TOTAL_MINS</th>\n",
       "      <th>FELL_ASLEEP_EARLY</th>\n",
       "      <th>DAY_OF_WEEK_Friday</th>\n",
       "      <th>DAY_OF_WEEK_Monday</th>\n",
       "      <th>DAY_OF_WEEK_Saturday</th>\n",
       "      <th>DAY_OF_WEEK_Sunday</th>\n",
       "      <th>DAY_OF_WEEK_Thursday</th>\n",
       "      <th>DAY_OF_WEEK_Tuesday</th>\n",
       "      <th>DAY_OF_WEEK_Wednesday</th>\n",
       "      <th>Month_December</th>\n",
       "      <th>Month_February</th>\n",
       "      <th>Month_January</th>\n",
       "      <th>Month_November</th>\n",
       "    </tr>\n",
       "  </thead>\n",
       "  <tbody>\n",
       "    <tr>\n",
       "      <th>0</th>\n",
       "      <td>20.0</td>\n",
       "      <td>13.0</td>\n",
       "      <td>84.0</td>\n",
       "      <td>486</td>\n",
       "      <td>1</td>\n",
       "      <td>0</td>\n",
       "      <td>1</td>\n",
       "      <td>0</td>\n",
       "      <td>0</td>\n",
       "      <td>0</td>\n",
       "      <td>0</td>\n",
       "      <td>0</td>\n",
       "      <td>0</td>\n",
       "      <td>0</td>\n",
       "      <td>0</td>\n",
       "      <td>1</td>\n",
       "    </tr>\n",
       "    <tr>\n",
       "      <th>1</th>\n",
       "      <td>12.0</td>\n",
       "      <td>18.0</td>\n",
       "      <td>90.0</td>\n",
       "      <td>477</td>\n",
       "      <td>1</td>\n",
       "      <td>0</td>\n",
       "      <td>0</td>\n",
       "      <td>0</td>\n",
       "      <td>0</td>\n",
       "      <td>0</td>\n",
       "      <td>1</td>\n",
       "      <td>0</td>\n",
       "      <td>0</td>\n",
       "      <td>0</td>\n",
       "      <td>0</td>\n",
       "      <td>1</td>\n",
       "    </tr>\n",
       "    <tr>\n",
       "      <th>2</th>\n",
       "      <td>13.0</td>\n",
       "      <td>22.0</td>\n",
       "      <td>93.0</td>\n",
       "      <td>426</td>\n",
       "      <td>0</td>\n",
       "      <td>0</td>\n",
       "      <td>0</td>\n",
       "      <td>0</td>\n",
       "      <td>0</td>\n",
       "      <td>0</td>\n",
       "      <td>0</td>\n",
       "      <td>1</td>\n",
       "      <td>0</td>\n",
       "      <td>0</td>\n",
       "      <td>0</td>\n",
       "      <td>1</td>\n",
       "    </tr>\n",
       "    <tr>\n",
       "      <th>3</th>\n",
       "      <td>19.0</td>\n",
       "      <td>17.0</td>\n",
       "      <td>97.0</td>\n",
       "      <td>424</td>\n",
       "      <td>1</td>\n",
       "      <td>0</td>\n",
       "      <td>0</td>\n",
       "      <td>0</td>\n",
       "      <td>0</td>\n",
       "      <td>1</td>\n",
       "      <td>0</td>\n",
       "      <td>0</td>\n",
       "      <td>0</td>\n",
       "      <td>0</td>\n",
       "      <td>0</td>\n",
       "      <td>1</td>\n",
       "    </tr>\n",
       "    <tr>\n",
       "      <th>4</th>\n",
       "      <td>17.0</td>\n",
       "      <td>15.0</td>\n",
       "      <td>66.0</td>\n",
       "      <td>564</td>\n",
       "      <td>1</td>\n",
       "      <td>1</td>\n",
       "      <td>0</td>\n",
       "      <td>0</td>\n",
       "      <td>0</td>\n",
       "      <td>0</td>\n",
       "      <td>0</td>\n",
       "      <td>0</td>\n",
       "      <td>0</td>\n",
       "      <td>0</td>\n",
       "      <td>0</td>\n",
       "      <td>1</td>\n",
       "    </tr>\n",
       "  </tbody>\n",
       "</table>\n",
       "</div>"
      ],
      "text/plain": [
       "   REM_SLEEP  DEEP_SLEEP  HEART_RATE_BELOW_RESTING  TOTAL_MINS  \\\n",
       "0       20.0        13.0                      84.0         486   \n",
       "1       12.0        18.0                      90.0         477   \n",
       "2       13.0        22.0                      93.0         426   \n",
       "3       19.0        17.0                      97.0         424   \n",
       "4       17.0        15.0                      66.0         564   \n",
       "\n",
       "   FELL_ASLEEP_EARLY  DAY_OF_WEEK_Friday  DAY_OF_WEEK_Monday  \\\n",
       "0                  1                   0                   1   \n",
       "1                  1                   0                   0   \n",
       "2                  0                   0                   0   \n",
       "3                  1                   0                   0   \n",
       "4                  1                   1                   0   \n",
       "\n",
       "   DAY_OF_WEEK_Saturday  DAY_OF_WEEK_Sunday  DAY_OF_WEEK_Thursday  \\\n",
       "0                     0                   0                     0   \n",
       "1                     0                   0                     0   \n",
       "2                     0                   0                     0   \n",
       "3                     0                   0                     1   \n",
       "4                     0                   0                     0   \n",
       "\n",
       "   DAY_OF_WEEK_Tuesday  DAY_OF_WEEK_Wednesday  Month_December  Month_February  \\\n",
       "0                    0                      0               0               0   \n",
       "1                    1                      0               0               0   \n",
       "2                    0                      1               0               0   \n",
       "3                    0                      0               0               0   \n",
       "4                    0                      0               0               0   \n",
       "\n",
       "   Month_January  Month_November  \n",
       "0              0               1  \n",
       "1              0               1  \n",
       "2              0               1  \n",
       "3              0               1  \n",
       "4              0               1  "
      ]
     },
     "execution_count": 13,
     "metadata": {},
     "output_type": "execute_result"
    }
   ],
   "source": [
    "# Split Predictor vs Target variables\n",
    "X = df.loc[:, df.columns != 'SLEEP_SCORE']\n",
    "y = df.loc[:, df.columns == 'SLEEP_SCORE']\n",
    "X.head()"
   ]
  },
  {
   "cell_type": "code",
   "execution_count": 14,
   "id": "892fadd8",
   "metadata": {},
   "outputs": [],
   "source": [
    "# scale variables\n",
    "from sklearn.preprocessing import StandardScaler\n",
    "\n",
    "# Scale predictor variables\n",
    "scaled_features = StandardScaler().fit_transform(X.values)\n",
    "scaled_features_df = pd.DataFrame(scaled_features, index=X.index, columns=X.columns)\n"
   ]
  },
  {
   "cell_type": "code",
   "execution_count": 16,
   "id": "c8b06484",
   "metadata": {},
   "outputs": [],
   "source": [
    "# scale y variables\n",
    "scaled_y = StandardScaler().fit_transform(y.values)\n",
    "scaled_y_df = pd.DataFrame(scaled_y, index=y.index, columns=y.columns)"
   ]
  },
  {
   "cell_type": "code",
   "execution_count": 17,
   "id": "14bbc429",
   "metadata": {},
   "outputs": [],
   "source": [
    "y = scaled_y_df\n",
    "X = scaled_features_df"
   ]
  },
  {
   "cell_type": "markdown",
   "id": "2bad07f5",
   "metadata": {},
   "source": [
    "### Stacking Model 1"
   ]
  },
  {
   "cell_type": "code",
   "execution_count": 18,
   "id": "b322c1ef",
   "metadata": {},
   "outputs": [],
   "source": [
    "estimators = [\n",
    "     ('lr', RidgeCV()),\n",
    "     ('svr', LinearSVR(random_state=42)),\n",
    "     ('cart', DecisionTreeRegressor()),\n",
    "     ('rf', RandomForestRegressor(min_samples_split = 25))\n",
    " ]\n",
    "\n",
    "reg = StackingRegressor(\n",
    "     estimators=estimators,\n",
    "     final_estimator=LinearRegression()\n",
    ")"
   ]
  },
  {
   "cell_type": "code",
   "execution_count": 19,
   "id": "9689042d",
   "metadata": {},
   "outputs": [
    {
     "name": "stdout",
     "output_type": "stream",
     "text": [
      "R-squared: 0.774\n"
     ]
    }
   ],
   "source": [
    "# split into training and test data\n",
    "from sklearn.model_selection import train_test_split\n",
    "X_train, X_test, y_train, y_test = train_test_split(\n",
    "     X, y, random_state=42)\n",
    "\n",
    "r_sq = reg.fit(X_train, y_train).score(X_test, y_test)\n",
    "print('R-squared: ' + str(round(r_sq,3)))"
   ]
  },
  {
   "cell_type": "markdown",
   "id": "cc2521d4",
   "metadata": {},
   "source": [
    "### Stacking Model 2"
   ]
  },
  {
   "cell_type": "code",
   "execution_count": 20,
   "id": "35fb0013",
   "metadata": {},
   "outputs": [],
   "source": [
    "# get a stacking ensemble of models\n",
    "def get_stacking():\n",
    "    # define the base models\n",
    "    level0 = list()\n",
    "    level0.append(('knn', KNeighborsRegressor()))\n",
    "    level0.append(('cart', DecisionTreeRegressor(min_samples_split = 25)))\n",
    "    level0.append(('svm', SVR()))\n",
    "    level0.append(('lr', LinearRegression()))\n",
    "    # define meta learner model\n",
    "    level1 = LinearRegression()\n",
    "    # define the stacking ensemble\n",
    "    model = StackingRegressor(estimators=level0, final_estimator=level1, cv=5)\n",
    "    return model"
   ]
  },
  {
   "cell_type": "code",
   "execution_count": 21,
   "id": "d2ea8557",
   "metadata": {},
   "outputs": [],
   "source": [
    "# get a list of models to evaluate\n",
    "def get_models():\n",
    "    models = dict()\n",
    "    models['knn'] = KNeighborsRegressor()\n",
    "    models['cart'] = DecisionTreeRegressor()\n",
    "    models['svm'] = SVR()\n",
    "    models['lr'] = LinearRegression()\n",
    "    models['stacking'] = get_stacking()\n",
    "    return models\n",
    "# evaluate a given model using cross-validation\n",
    "def evaluate_model(model, X, y):\n",
    "\tcv = RepeatedKFold(n_splits=10, n_repeats=3, random_state=1)\n",
    "\tscores = cross_val_score(model, X, y, scoring='explained_variance', cv=cv, n_jobs=-1, error_score='raise')\n",
    "\treturn scores"
   ]
  },
  {
   "cell_type": "code",
   "execution_count": 22,
   "id": "51b29d0a",
   "metadata": {},
   "outputs": [
    {
     "name": "stdout",
     "output_type": "stream",
     "text": [
      ">knn 0.202 (0.236)\n",
      ">cart 0.637 (0.196)\n",
      ">svm 0.552 (0.172)\n",
      ">lr 0.718 (0.218)\n",
      ">stacking 0.749 (0.180)\n"
     ]
    },
    {
     "data": {
      "image/png": "[encoded data removed]",
      "text/plain": [
       "<Figure size 432x288 with 1 Axes>"
      ]
     },
     "metadata": {
      "needs_background": "light"
     },
     "output_type": "display_data"
    }
   ],
   "source": [
    "# get the models to evaluate\n",
    "models = get_models()\n",
    "# evaluate the models and store results\n",
    "results, names = list(), list()\n",
    "for name, model in models.items():\n",
    "\tscores = evaluate_model(model, X, y)\n",
    "\tresults.append(scores)\n",
    "\tnames.append(name)\n",
    "\tprint('>%s %.3f (%.3f)' % (name, mean(scores), std(scores)))\n",
    "# plot model performance for comparison\n",
    "pyplot.boxplot(results, labels=names, showmeans=True)\n",
    "pyplot.show()"
   ]
  },
  {
   "cell_type": "markdown",
   "id": "afbd8f33",
   "metadata": {},
   "source": [
    "### Bagging Model 1 - Decision Tree"
   ]
  },
  {
   "cell_type": "code",
   "execution_count": 23,
   "id": "a05b30f3",
   "metadata": {},
   "outputs": [
    {
     "name": "stdout",
     "output_type": "stream",
     "text": [
      "R-squared: 0.779 (0.107)\n"
     ]
    }
   ],
   "source": [
    "from sklearn.ensemble import BaggingRegressor\n",
    "# define the model\n",
    "model = BaggingRegressor()\n",
    "# evaluate the model\n",
    "cv = RepeatedKFold(n_splits=10, n_repeats=3, random_state=1)\n",
    "n_scores = cross_val_score(model, X, y, scoring='explained_variance', cv=cv, n_jobs=-1, error_score='raise')\n",
    "# report performance\n",
    "print('R-squared: %.3f (%.3f)' % (mean(n_scores), std(n_scores)))"
   ]
  },
  {
   "cell_type": "markdown",
   "id": "c915fcd3",
   "metadata": {},
   "source": [
    "### Bagging Model 2 - Random Forest"
   ]
  },
  {
   "cell_type": "code",
   "execution_count": 24,
   "id": "894dc987",
   "metadata": {},
   "outputs": [
    {
     "name": "stdout",
     "output_type": "stream",
     "text": [
      "R-squared: 0.776 (0.088)\n"
     ]
    }
   ],
   "source": [
    "from sklearn.ensemble import BaggingRegressor\n",
    "# define the model\n",
    "model = BaggingRegressor(base_estimator = RandomForestRegressor())\n",
    "# evaluate the model\n",
    "cv = RepeatedKFold(n_splits=10, n_repeats=3, random_state=1)\n",
    "n_scores = cross_val_score(model, X, y, scoring='explained_variance', cv=cv, n_jobs=-1, error_score='raise')\n",
    "# report performance\n",
    "print('R-squared: %.3f (%.3f)' % (mean(n_scores), std(n_scores)))"
   ]
  },
  {
   "cell_type": "markdown",
   "id": "d7b26cd4",
   "metadata": {},
   "source": [
    "### Bagging Model 3 - Linear Regression"
   ]
  },
  {
   "cell_type": "code",
   "execution_count": 25,
   "id": "5019365c",
   "metadata": {},
   "outputs": [
    {
     "name": "stdout",
     "output_type": "stream",
     "text": [
      "R-squared: 0.719 (0.214)\n"
     ]
    }
   ],
   "source": [
    "from sklearn.ensemble import BaggingRegressor\n",
    "# define the model\n",
    "model = BaggingRegressor(base_estimator = LinearRegression())\n",
    "# evaluate the model\n",
    "cv = RepeatedKFold(n_splits=10, n_repeats=3, random_state=1)\n",
    "n_scores = cross_val_score(model, X, y, scoring='explained_variance', cv=cv, n_jobs=-1, error_score='raise')\n",
    "# report performance\n",
    "print('R-squared: %.3f (%.3f)' % (mean(n_scores), std(n_scores)))"
   ]
  },
  {
   "cell_type": "markdown",
   "id": "d7cff92f",
   "metadata": {},
   "source": [
    "The best model according to r-squared is the decision tree bagging model. Given an r-squared of 0.779 we have a good idea of what sleep score FitBit will output. However, there's still much to be improved on by the model. "
   ]
  }
 ],
 "metadata": {
  "kernelspec": {
   "display_name": "Python 3 (ipykernel)",
   "language": "python",
   "name": "python3"
  },
  "language_info": {
   "codemirror_mode": {
    "name": "ipython",
    "version": 3
   },
   "file_extension": ".py",
   "mimetype": "text/x-python",
   "name": "python",
   "nbconvert_exporter": "python",
   "pygments_lexer": "ipython3",
   "version": "3.9.7"
  }
 },
 "nbformat": 4,
 "nbformat_minor": 5
}
