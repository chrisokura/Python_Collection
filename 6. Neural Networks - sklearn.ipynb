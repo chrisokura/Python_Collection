{
 "cells": [
  {
   "cell_type": "code",
   "execution_count": 36,
   "id": "ddb81d8d",
   "metadata": {},
   "outputs": [],
   "source": [
    "import pandas as pd\n",
    "import numpy as np\n",
    "from numpy import mean\n",
    "import os \n",
    "from sklearn.neural_network import MLPClassifier\n",
    "from sklearn.model_selection import cross_val_score\n",
    "\n",
    "from sklearn.metrics import accuracy_score\n",
    "from sklearn.model_selection import StratifiedKFold\n",
    "from sklearn.preprocessing import StandardScaler\n",
    "import numpy as np \n",
    "import seaborn as sns\n",
    "import warnings\n",
    "warnings.filterwarnings('ignore')\n",
    "from sklearn.linear_model import RidgeCV\n",
    "from sklearn.svm import LinearSVR\n",
    "from sklearn.ensemble import RandomForestClassifier\n",
    "from sklearn.ensemble import StackingClassifier\n",
    "from sklearn.tree import DecisionTreeClassifier\n",
    "from sklearn.neighbors import KNeighborsRegressor\n",
    "from sklearn.linear_model import RidgeClassifier\n",
    "from sklearn.svm import LinearSVC\n",
    "from matplotlib import pyplot\n",
    "import os"
   ]
  },
  {
   "cell_type": "code",
   "execution_count": 37,
   "id": "479e001d",
   "metadata": {},
   "outputs": [
    {
     "data": {
      "text/html": [
       "<div>\n",
       "<style scoped>\n",
       "    .dataframe tbody tr th:only-of-type {\n",
       "        vertical-align: middle;\n",
       "    }\n",
       "\n",
       "    .dataframe tbody tr th {\n",
       "        vertical-align: top;\n",
       "    }\n",
       "\n",
       "    .dataframe thead th {\n",
       "        text-align: right;\n",
       "    }\n",
       "</style>\n",
       "<table border=\"1\" class=\"dataframe\">\n",
       "  <thead>\n",
       "    <tr style=\"text-align: right;\">\n",
       "      <th></th>\n",
       "      <th>culmen_length_mm</th>\n",
       "      <th>culmen_depth_mm</th>\n",
       "      <th>flipper_length_mm</th>\n",
       "      <th>body_mass_g</th>\n",
       "      <th>island_Biscoe</th>\n",
       "      <th>island_Dream</th>\n",
       "      <th>island_Torgersen</th>\n",
       "      <th>sex_.</th>\n",
       "      <th>sex_FEMALE</th>\n",
       "      <th>sex_MALE</th>\n",
       "    </tr>\n",
       "  </thead>\n",
       "  <tbody>\n",
       "    <tr>\n",
       "      <th>0</th>\n",
       "      <td>-0.897653</td>\n",
       "      <td>0.783487</td>\n",
       "      <td>-1.429521</td>\n",
       "      <td>-0.571229</td>\n",
       "      <td>-0.982194</td>\n",
       "      <td>-0.763504</td>\n",
       "      <td>2.47111</td>\n",
       "      <td>-0.0548</td>\n",
       "      <td>-0.988095</td>\n",
       "      <td>0.994030</td>\n",
       "    </tr>\n",
       "    <tr>\n",
       "      <th>1</th>\n",
       "      <td>-0.824290</td>\n",
       "      <td>0.121896</td>\n",
       "      <td>-1.072408</td>\n",
       "      <td>-0.509011</td>\n",
       "      <td>-0.982194</td>\n",
       "      <td>-0.763504</td>\n",
       "      <td>2.47111</td>\n",
       "      <td>-0.0548</td>\n",
       "      <td>1.012049</td>\n",
       "      <td>-1.006006</td>\n",
       "    </tr>\n",
       "    <tr>\n",
       "      <th>2</th>\n",
       "      <td>-0.677564</td>\n",
       "      <td>0.427246</td>\n",
       "      <td>-0.429605</td>\n",
       "      <td>-1.193405</td>\n",
       "      <td>-0.982194</td>\n",
       "      <td>-0.763504</td>\n",
       "      <td>2.47111</td>\n",
       "      <td>-0.0548</td>\n",
       "      <td>1.012049</td>\n",
       "      <td>-1.006006</td>\n",
       "    </tr>\n",
       "    <tr>\n",
       "      <th>3</th>\n",
       "      <td>-1.337831</td>\n",
       "      <td>1.088836</td>\n",
       "      <td>-0.572450</td>\n",
       "      <td>-0.944535</td>\n",
       "      <td>-0.982194</td>\n",
       "      <td>-0.763504</td>\n",
       "      <td>2.47111</td>\n",
       "      <td>-0.0548</td>\n",
       "      <td>1.012049</td>\n",
       "      <td>-1.006006</td>\n",
       "    </tr>\n",
       "    <tr>\n",
       "      <th>4</th>\n",
       "      <td>-0.860972</td>\n",
       "      <td>1.750427</td>\n",
       "      <td>-0.786718</td>\n",
       "      <td>-0.695664</td>\n",
       "      <td>-0.982194</td>\n",
       "      <td>-0.763504</td>\n",
       "      <td>2.47111</td>\n",
       "      <td>-0.0548</td>\n",
       "      <td>-0.988095</td>\n",
       "      <td>0.994030</td>\n",
       "    </tr>\n",
       "  </tbody>\n",
       "</table>\n",
       "</div>"
      ],
      "text/plain": [
       "   culmen_length_mm  culmen_depth_mm  flipper_length_mm  body_mass_g  \\\n",
       "0         -0.897653         0.783487          -1.429521    -0.571229   \n",
       "1         -0.824290         0.121896          -1.072408    -0.509011   \n",
       "2         -0.677564         0.427246          -0.429605    -1.193405   \n",
       "3         -1.337831         1.088836          -0.572450    -0.944535   \n",
       "4         -0.860972         1.750427          -0.786718    -0.695664   \n",
       "\n",
       "   island_Biscoe  island_Dream  island_Torgersen   sex_.  sex_FEMALE  sex_MALE  \n",
       "0      -0.982194     -0.763504           2.47111 -0.0548   -0.988095  0.994030  \n",
       "1      -0.982194     -0.763504           2.47111 -0.0548    1.012049 -1.006006  \n",
       "2      -0.982194     -0.763504           2.47111 -0.0548    1.012049 -1.006006  \n",
       "3      -0.982194     -0.763504           2.47111 -0.0548    1.012049 -1.006006  \n",
       "4      -0.982194     -0.763504           2.47111 -0.0548   -0.988095  0.994030  "
      ]
     },
     "execution_count": 37,
     "metadata": {},
     "output_type": "execute_result"
    }
   ],
   "source": [
    "df = pd.read_csv(\"penguins_size.csv\")\n",
    "\n",
    "# Data Preprocessing\n",
    "\n",
    "# drop na's\n",
    "df = df.dropna()\n",
    "\n",
    "# Binary encode categorical variables\n",
    "df = pd.get_dummies(df, columns=['island', 'sex'])\n",
    "\n",
    "# Split Predictor vs Target variables\n",
    "X = df.loc[:, df.columns != 'species']\n",
    "y = df.loc[:, df.columns == 'species']\n",
    "\n",
    "\n",
    "col_names = X.columns\n",
    "# Scale\n",
    "\n",
    "X = pd.DataFrame(StandardScaler().fit_transform(X.values))\n",
    "\n",
    "X = pd.DataFrame(X_scale, index=X_scale.index, columns=X_scale.columns)\n",
    "\n",
    "X.set_axis(col_names, axis = 1, inplace = True)\n",
    "\n",
    "X.head()\n"
   ]
  },
  {
   "cell_type": "code",
   "execution_count": 38,
   "id": "350b8d24",
   "metadata": {},
   "outputs": [],
   "source": [
    "cv = StratifiedKFold(n_splits=10)"
   ]
  },
  {
   "cell_type": "markdown",
   "id": "e76d0d05",
   "metadata": {},
   "source": [
    "### Neural Network Model 1"
   ]
  },
  {
   "cell_type": "code",
   "execution_count": 39,
   "id": "683cde90",
   "metadata": {},
   "outputs": [
    {
     "name": "stdout",
     "output_type": "stream",
     "text": [
      "0.9969696969696968\n"
     ]
    }
   ],
   "source": [
    "## default settings\n",
    "neuralnet = MLPClassifier(solver='lbfgs', activation = 'logistic', alpha=0.0001,\n",
    "                   hidden_layer_sizes=(100,), random_state=1)\n",
    "\n",
    "nn_scores = cross_val_score(neuralnet, X, y, scoring = 'accuracy', cv=cv, n_jobs=-1, error_score='raise')\n",
    "\n",
    "\n",
    "print(mean(nn_scores))"
   ]
  },
  {
   "cell_type": "markdown",
   "id": "b17053be",
   "metadata": {},
   "source": [
    "### NN Model 2"
   ]
  },
  {
   "cell_type": "code",
   "execution_count": 40,
   "id": "e3e18849",
   "metadata": {},
   "outputs": [
    {
     "name": "stdout",
     "output_type": "stream",
     "text": [
      "0.9939393939393938\n"
     ]
    }
   ],
   "source": [
    "## increase hidden layer size\n",
    "neuralnet = MLPClassifier(solver='lbfgs', activation = 'logistic', alpha=0.0001,\n",
    "                   hidden_layer_sizes=(500,), random_state=1)\n",
    "\n",
    "nn_scores = cross_val_score(neuralnet, X, y, scoring = 'accuracy', cv=cv, n_jobs=-1, error_score='raise')\n",
    "\n",
    "\n",
    "print(mean(nn_scores))"
   ]
  },
  {
   "cell_type": "markdown",
   "id": "676b4768",
   "metadata": {},
   "source": [
    "### NN Model 3"
   ]
  },
  {
   "cell_type": "code",
   "execution_count": 41,
   "id": "fc138fd8",
   "metadata": {},
   "outputs": [
    {
     "name": "stdout",
     "output_type": "stream",
     "text": [
      "0.9939393939393938\n"
     ]
    }
   ],
   "source": [
    "neuralnet = MLPClassifier(solver='lbfgs', activation = 'logistic', alpha=0.0001,\n",
    "                   hidden_layer_sizes=(3,), random_state=1)\n",
    "\n",
    "nn_scores = cross_val_score(neuralnet, X, y, scoring = 'accuracy', cv=cv, n_jobs=-1, error_score='raise')\n",
    "\n",
    "\n",
    "print(mean(nn_scores))"
   ]
  },
  {
   "cell_type": "markdown",
   "id": "b90d4467",
   "metadata": {},
   "source": [
    "### NN Model 4"
   ]
  },
  {
   "cell_type": "code",
   "execution_count": 52,
   "id": "e1232805",
   "metadata": {},
   "outputs": [
    {
     "name": "stdout",
     "output_type": "stream",
     "text": [
      "0.9910873440285204\n"
     ]
    }
   ],
   "source": [
    "## change activation function to 'tanh' and choose correspondig alpha based on highest accuracy\n",
    "neuralnet = MLPClassifier(solver='lbfgs', activation = 'tanh', alpha=0.0001,\n",
    "                   hidden_layer_sizes=(200,), random_state=1)\n",
    "\n",
    "nn_scores = cross_val_score(neuralnet, X, y, scoring = 'accuracy', cv=cv, n_jobs=-1, error_score='raise')\n",
    "\n",
    "\n",
    "print(mean(nn_scores))"
   ]
  },
  {
   "cell_type": "markdown",
   "id": "cc76888d",
   "metadata": {},
   "source": [
    "### NN Model 5"
   ]
  },
  {
   "cell_type": "code",
   "execution_count": 48,
   "id": "9c3aed9d",
   "metadata": {},
   "outputs": [
    {
     "name": "stdout",
     "output_type": "stream",
     "text": [
      "0.9940285204991088\n"
     ]
    }
   ],
   "source": [
    "neuralnet = MLPClassifier(solver='lbfgs', activation = 'logistic', alpha=1, \n",
    "                          hidden_layer_sizes=(200,), random_state=1)\n",
    "\n",
    "nn_scores = cross_val_score(neuralnet, X, y, scoring = 'accuracy', cv=cv, n_jobs=-1, error_score='raise')\n",
    "\n",
    "\n",
    "print(mean(nn_scores))"
   ]
  },
  {
   "cell_type": "markdown",
   "id": "9d4f3477",
   "metadata": {},
   "source": [
    "The highest performing model had an accuracy of 99.7%."
   ]
  },
  {
   "cell_type": "markdown",
   "id": "671a3726",
   "metadata": {},
   "source": [
    "### Stacking Model"
   ]
  },
  {
   "cell_type": "code",
   "execution_count": 49,
   "id": "cc1fd72f",
   "metadata": {},
   "outputs": [],
   "source": [
    "# split into training and test data\n",
    "from sklearn.model_selection import train_test_split\n",
    "X_train, X_test, y_train, y_test = train_test_split(\n",
    "     X, y, random_state=42)\n",
    "\n",
    "estimators = [\n",
    "     ('svc', LinearSVC(random_state=42)),\n",
    "     ('cart', DecisionTreeClassifier()),\n",
    "     ('rf', RandomForestClassifier(min_samples_split = 25))\n",
    " ]\n",
    "\n",
    "reg = StackingClassifier(\n",
    "     estimators=estimators\n",
    ")"
   ]
  },
  {
   "cell_type": "code",
   "execution_count": 50,
   "id": "f4728043",
   "metadata": {},
   "outputs": [
    {
     "name": "stdout",
     "output_type": "stream",
     "text": [
      "The accuracy is:  98.81 %\n"
     ]
    }
   ],
   "source": [
    "accuracy = reg.fit(X_train, y_train).score(X_test, y_test)\n",
    "print('The accuracy is: ',round(accuracy*100, 2),'%')"
   ]
  },
  {
   "cell_type": "markdown",
   "id": "3fbf8b84",
   "metadata": {},
   "source": [
    "Compared to the neural network model, the stacking model performed worse in terms of accuracy. However, the stacking model still performed well with a 98.81% accuracy. "
   ]
  }
 ],
 "metadata": {
  "kernelspec": {
   "display_name": "Python 3 (ipykernel)",
   "language": "python",
   "name": "python3"
  },
  "language_info": {
   "codemirror_mode": {
    "name": "ipython",
    "version": 3
   },
   "file_extension": ".py",
   "mimetype": "text/x-python",
   "name": "python",
   "nbconvert_exporter": "python",
   "pygments_lexer": "ipython3",
   "version": "3.9.7"
  }
 },
 "nbformat": 4,
 "nbformat_minor": 5
}
