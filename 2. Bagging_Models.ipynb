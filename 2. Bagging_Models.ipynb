{
 "cells": [
  {
   "cell_type": "code",
   "execution_count": 144,
   "id": "766f3b4d",
   "metadata": {},
   "outputs": [],
   "source": [
    "import pandas as pd\n",
    "from sklearn.ensemble import BaggingRegressor\n",
    "from sklearn.svm import SVR\n",
    "from sklearn.metrics import r2_score\n",
    "from sklearn.tree import DecisionTreeRegressor\n",
    "from sklearn.ensemble import RandomForestRegressor\n",
    "from sklearn.neighbors import KNeighborsRegressor\n",
    "from sklearn.linear_model import LinearRegression\n",
    "import warnings\n",
    "warnings.filterwarnings('ignore')"
   ]
  },
  {
   "cell_type": "code",
   "execution_count": 155,
   "id": "57ec003d",
   "metadata": {},
   "outputs": [],
   "source": [
    "# read in data\n",
    "abalone = pd.read_csv('C:\\\\Users\\\\chris\\\\OneDrive\\\\Grad School\\\\_ADVANCED MACHINE LEARNING\\\\Week 3\\\\Practice Activity #1 - Bagging\\\\abalone.csv')"
   ]
  },
  {
   "cell_type": "code",
   "execution_count": 145,
   "id": "930ec4ad",
   "metadata": {},
   "outputs": [],
   "source": [
    "# Split Predictor vs Target variables\n",
    "X = abalone.loc[:, abalone.columns != 'rings']\n",
    "X = X.loc[:, X.columns != 'sex']\n",
    "y = abalone.loc[:, abalone.columns == 'rings']"
   ]
  },
  {
   "cell_type": "markdown",
   "id": "1979083c",
   "metadata": {},
   "source": [
    "### Model 1 - SVR"
   ]
  },
  {
   "cell_type": "code",
   "execution_count": 146,
   "id": "400609f6",
   "metadata": {},
   "outputs": [],
   "source": [
    "# change target variable to integer\n",
    "Y = Y.astype({\"rings\": int})"
   ]
  },
  {
   "cell_type": "code",
   "execution_count": 147,
   "id": "92f1b9ca",
   "metadata": {},
   "outputs": [
    {
     "data": {
      "text/plain": [
       "0.5370152346825008"
      ]
     },
     "execution_count": 147,
     "metadata": {},
     "output_type": "execute_result"
    }
   ],
   "source": [
    "regr = BaggingRegressor(base_estimator=SVR(),\n",
    "                         n_estimators=10, random_state=0).fit(X, y)\n",
    "preds = regr.predict(X)\n",
    "\n",
    "# report r-squared\n",
    "r2_score(y, preds)\n"
   ]
  },
  {
   "cell_type": "markdown",
   "id": "f16ba015",
   "metadata": {},
   "source": [
    "### Model 2 - Decision Tree"
   ]
  },
  {
   "cell_type": "code",
   "execution_count": 148,
   "id": "14348959",
   "metadata": {},
   "outputs": [
    {
     "data": {
      "text/plain": [
       "0.9073736099940635"
      ]
     },
     "execution_count": 148,
     "metadata": {},
     "output_type": "execute_result"
    }
   ],
   "source": [
    "\n",
    "regr2 = BaggingRegressor(base_estimator=DecisionTreeRegressor(),\n",
    "                         n_estimators=10, random_state=0).fit(X, y)\n",
    "preds2 = regr2.predict(X)\n",
    "r2_score(y, preds2)"
   ]
  },
  {
   "cell_type": "markdown",
   "id": "97b7b75b",
   "metadata": {},
   "source": [
    "### Model 3 - Random Forest"
   ]
  },
  {
   "cell_type": "code",
   "execution_count": 149,
   "id": "5a047f73",
   "metadata": {},
   "outputs": [
    {
     "data": {
      "text/plain": [
       "0.8344588874587315"
      ]
     },
     "execution_count": 149,
     "metadata": {},
     "output_type": "execute_result"
    }
   ],
   "source": [
    "regr3 = BaggingRegressor(base_estimator= RandomForestRegressor(),\n",
    "                         n_estimators=10, random_state=0).fit(X, y)\n",
    "preds3 = regr3.predict(X)\n",
    "# report r-squared\n",
    "r2_score(y, preds3)"
   ]
  },
  {
   "cell_type": "markdown",
   "id": "bd1e6885",
   "metadata": {},
   "source": [
    "### Model 4 - Linear Regression"
   ]
  },
  {
   "cell_type": "code",
   "execution_count": 150,
   "id": "7255327d",
   "metadata": {},
   "outputs": [
    {
     "data": {
      "text/plain": [
       "0.8344588874587315"
      ]
     },
     "execution_count": 150,
     "metadata": {},
     "output_type": "execute_result"
    }
   ],
   "source": [
    "regr4 = BaggingRegressor(base_estimator= LinearRegression(),\n",
    "                         n_estimators=10, random_state=0).fit(X, y)\n",
    "preds4 = regr3.predict(X)\n",
    "# report r-squared\n",
    "r2_score(y, preds4)"
   ]
  }
 ],
 "metadata": {
  "kernelspec": {
   "display_name": "Python 3 (ipykernel)",
   "language": "python",
   "name": "python3"
  },
  "language_info": {
   "codemirror_mode": {
    "name": "ipython",
    "version": 3
   },
   "file_extension": ".py",
   "mimetype": "text/x-python",
   "name": "python",
   "nbconvert_exporter": "python",
   "pygments_lexer": "ipython3",
   "version": "3.9.7"
  }
 },
 "nbformat": 4,
 "nbformat_minor": 5
}
